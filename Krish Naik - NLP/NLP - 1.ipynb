{
 "cells": [
  {
   "cell_type": "code",
   "execution_count": 1,
   "id": "4081d0d3",
   "metadata": {},
   "outputs": [
    {
     "name": "stdout",
     "output_type": "stream",
     "text": [
      "Jupyter Notebook is working\n"
     ]
    }
   ],
   "source": [
    "print(\"Jupyter Notebook is working\")"
   ]
  },
  {
   "cell_type": "code",
   "execution_count": 2,
   "id": "70a7534a",
   "metadata": {},
   "outputs": [
    {
     "name": "stdout",
     "output_type": "stream",
     "text": [
      "Requirement already satisfied: nltk in c:\\users\\yashv\\anaconda3\\lib\\site-packages (3.8.1)\n",
      "Requirement already satisfied: click in c:\\users\\yashv\\anaconda3\\lib\\site-packages (from nltk) (8.0.4)\n",
      "Requirement already satisfied: joblib in c:\\users\\yashv\\anaconda3\\lib\\site-packages (from nltk) (1.2.0)\n",
      "Requirement already satisfied: regex>=2021.8.3 in c:\\users\\yashv\\anaconda3\\lib\\site-packages (from nltk) (2022.7.9)\n",
      "Requirement already satisfied: tqdm in c:\\users\\yashv\\anaconda3\\lib\\site-packages (from nltk) (4.65.0)\n",
      "Requirement already satisfied: colorama in c:\\users\\yashv\\anaconda3\\lib\\site-packages (from click->nltk) (0.4.6)\n"
     ]
    }
   ],
   "source": [
    "!pip install nltk\n"
   ]
  },
  {
   "cell_type": "code",
   "execution_count": 3,
   "id": "3a847dd8",
   "metadata": {},
   "outputs": [],
   "source": [
    "paragraph =\"\"\"\n",
    "Narendra Damodardas Modi (Gujarati: [ˈnəɾendɾə dɑmodəɾˈdɑs ˈmodiː] (listen); born 17 September 1950)[b] is an Indian politician who has served as the 14th Prime Minister of India since May 2014. Modi was Chief Minister of Gujarat from 2001 to 2014 and is the Member of Parliament (MP) for Varanasi. He is a member of the Bharatiya Janata Party (BJP) and of the right-wing Hindu nationalist paramilitary volunteer organisation Rashtriya Swayamsevak Sangh (RSS). He is the longest-serving non-Indian National Congress (INC; Congress) prime minister.\n",
    "\n",
    "Narendra Modi was born and raised in Vadnagar in north-eastern Gujarat, where he completed his secondary education. He was introduced to the RSS at age eight. At age 18, he was married to Jashodaben Modi, whom he abandoned soon after. Modi has said he had travelled in northern India for two years after leaving his parental home, visiting a number of religious centres. He returned to Gujarat in 1971 and became a full-time worker for the RSS. In 1975, after Prime Minister Indira Gandhi declared a state of emergency, Modi went into hiding. The RSS assigned him to the BJP in 1985 and he held several positions within the party hierarchy until 2001, rising to the rank of general secretary.[c]\n",
    "\"\"\""
   ]
  },
  {
   "cell_type": "code",
   "execution_count": 4,
   "id": "2fe2551c",
   "metadata": {},
   "outputs": [
    {
     "data": {
      "text/plain": [
       "'\\nNarendra Damodardas Modi (Gujarati: [ˈnəɾendɾə dɑmodəɾˈdɑs ˈmodiː] (listen); born 17 September 1950)[b] is an Indian politician who has served as the 14th Prime Minister of India since May 2014. Modi was Chief Minister of Gujarat from 2001 to 2014 and is the Member of Parliament (MP) for Varanasi. He is a member of the Bharatiya Janata Party (BJP) and of the right-wing Hindu nationalist paramilitary volunteer organisation Rashtriya Swayamsevak Sangh (RSS). He is the longest-serving non-Indian National Congress (INC; Congress) prime minister.\\n\\nNarendra Modi was born and raised in Vadnagar in north-eastern Gujarat, where he completed his secondary education. He was introduced to the RSS at age eight. At age 18, he was married to Jashodaben Modi, whom he abandoned soon after. Modi has said he had travelled in northern India for two years after leaving his parental home, visiting a number of religious centres. He returned to Gujarat in 1971 and became a full-time worker for the RSS. In 1975, after Prime Minister Indira Gandhi declared a state of emergency, Modi went into hiding. The RSS assigned him to the BJP in 1985 and he held several positions within the party hierarchy until 2001, rising to the rank of general secretary.[c]\\n'"
      ]
     },
     "execution_count": 4,
     "metadata": {},
     "output_type": "execute_result"
    }
   ],
   "source": [
    "paragraph"
   ]
  },
  {
   "cell_type": "code",
   "execution_count": 5,
   "id": "2b2d56f4",
   "metadata": {},
   "outputs": [],
   "source": [
    "import nltk\n",
    "from nltk.stem import PorterStemmer\n",
    "from nltk.corpus import stopwords"
   ]
  },
  {
   "cell_type": "code",
   "execution_count": 6,
   "id": "8ab0cc82",
   "metadata": {},
   "outputs": [
    {
     "name": "stderr",
     "output_type": "stream",
     "text": [
      "[nltk_data] Downloading package punkt to\n",
      "[nltk_data]     C:\\Users\\yashv\\AppData\\Roaming\\nltk_data...\n",
      "[nltk_data]   Package punkt is already up-to-date!\n"
     ]
    }
   ],
   "source": [
    "## tokenization --converts the paragraph into sentences\n",
    "\n",
    "nltk.download('punkt')\n",
    "sentences = nltk.sent_tokenize(paragraph)"
   ]
  },
  {
   "cell_type": "code",
   "execution_count": 7,
   "id": "241cf022",
   "metadata": {},
   "outputs": [
    {
     "name": "stdout",
     "output_type": "stream",
     "text": [
      "['\\nNarendra Damodardas Modi (Gujarati: [ˈnəɾendɾə dɑmodəɾˈdɑs ˈmodiː] (listen); born 17 September 1950)[b] is an Indian politician who has served as the 14th Prime Minister of India since May 2014.', 'Modi was Chief Minister of Gujarat from 2001 to 2014 and is the Member of Parliament (MP) for Varanasi.', 'He is a member of the Bharatiya Janata Party (BJP) and of the right-wing Hindu nationalist paramilitary volunteer organisation Rashtriya Swayamsevak Sangh (RSS).', 'He is the longest-serving non-Indian National Congress (INC; Congress) prime minister.', 'Narendra Modi was born and raised in Vadnagar in north-eastern Gujarat, where he completed his secondary education.', 'He was introduced to the RSS at age eight.', 'At age 18, he was married to Jashodaben Modi, whom he abandoned soon after.', 'Modi has said he had travelled in northern India for two years after leaving his parental home, visiting a number of religious centres.', 'He returned to Gujarat in 1971 and became a full-time worker for the RSS.', 'In 1975, after Prime Minister Indira Gandhi declared a state of emergency, Modi went into hiding.', 'The RSS assigned him to the BJP in 1985 and he held several positions within the party hierarchy until 2001, rising to the rank of general secretary.', '[c]']\n"
     ]
    }
   ],
   "source": [
    "print(sentences)"
   ]
  },
  {
   "cell_type": "code",
   "execution_count": 8,
   "id": "c46a3e93",
   "metadata": {},
   "outputs": [
    {
     "data": {
      "text/plain": [
       "'He is the longest-serving non-Indian National Congress (INC; Congress) prime minister.'"
      ]
     },
     "execution_count": 8,
     "metadata": {},
     "output_type": "execute_result"
    }
   ],
   "source": [
    "type(sentences)\n",
    "sentences[3]    ## para is converted to sentence in a list format which can be accessed through index"
   ]
  },
  {
   "cell_type": "code",
   "execution_count": 9,
   "id": "4029088b",
   "metadata": {},
   "outputs": [
    {
     "data": {
      "text/plain": [
       "12"
      ]
     },
     "execution_count": 9,
     "metadata": {},
     "output_type": "execute_result"
    }
   ],
   "source": [
    "len(sentences)"
   ]
  },
  {
   "cell_type": "code",
   "execution_count": 10,
   "id": "32aaad7a",
   "metadata": {},
   "outputs": [
    {
     "data": {
      "text/plain": [
       "'histori'"
      ]
     },
     "execution_count": 10,
     "metadata": {},
     "output_type": "execute_result"
    }
   ],
   "source": [
    "## stemmer converts the word into the base word \n",
    "## which may or may not have a meaning\n",
    "\n",
    "stemmer = PorterStemmer()\n",
    "stemmer.stem('history')\n",
    "# stemmer.stem('finally')"
   ]
  },
  {
   "cell_type": "code",
   "execution_count": 11,
   "id": "75f8a106",
   "metadata": {},
   "outputs": [
    {
     "name": "stderr",
     "output_type": "stream",
     "text": [
      "[nltk_data] Downloading package wordnet to\n",
      "[nltk_data]     C:\\Users\\yashv\\AppData\\Roaming\\nltk_data...\n",
      "[nltk_data]   Package wordnet is already up-to-date!\n"
     ]
    }
   ],
   "source": [
    "nltk.download('wordnet')\n",
    "from nltk.stem import WordNetLemmatizer"
   ]
  },
  {
   "cell_type": "code",
   "execution_count": 12,
   "id": "242e490a",
   "metadata": {},
   "outputs": [],
   "source": [
    "lemmatizer = WordNetLemmatizer()"
   ]
  },
  {
   "cell_type": "code",
   "execution_count": 13,
   "id": "a65a84e5",
   "metadata": {},
   "outputs": [
    {
     "data": {
      "text/plain": [
       "'go'"
      ]
     },
     "execution_count": 13,
     "metadata": {},
     "output_type": "execute_result"
    }
   ],
   "source": [
    "lemmatizer.lemmatize(\"goes\")"
   ]
  },
  {
   "cell_type": "code",
   "execution_count": 14,
   "id": "96b598ca",
   "metadata": {},
   "outputs": [],
   "source": [
    "import re  #regular expression"
   ]
  },
  {
   "cell_type": "code",
   "execution_count": 16,
   "id": "bea6b1e1",
   "metadata": {},
   "outputs": [],
   "source": [
    "corpus = []\n",
    "for i in range(len(sentences)):\n",
    "    \n",
    "#     this sub method substitutes elements from the provided condition (og word, replace word, from where)\n",
    "#     in our code '^' this is used for keeping that particular thing and removing/replacing other irrelevant thing\n",
    "#     over here except a-z & A-Z we replaced every special character with a ' '.\n",
    "\n",
    "  review = re.sub('[^a-zA-Z]', ' ', sentences[i])\n",
    "  review =review.lower()\n",
    "  corpus.append(review)"
   ]
  },
  {
   "cell_type": "code",
   "execution_count": 17,
   "id": "2a3be985",
   "metadata": {},
   "outputs": [
    {
     "data": {
      "text/plain": [
       "[' narendra damodardas modi  gujarati    n  end   d mod   d s  modi    listen   born    september       b  is an indian politician who has served as the   th prime minister of india since may      ',\n",
       " 'modi was chief minister of gujarat from      to      and is the member of parliament  mp  for varanasi ',\n",
       " 'he is a member of the bharatiya janata party  bjp  and of the right wing hindu nationalist paramilitary volunteer organisation rashtriya swayamsevak sangh  rss  ',\n",
       " 'he is the longest serving non indian national congress  inc  congress  prime minister ',\n",
       " 'narendra modi was born and raised in vadnagar in north eastern gujarat  where he completed his secondary education ',\n",
       " 'he was introduced to the rss at age eight ',\n",
       " 'at age     he was married to jashodaben modi  whom he abandoned soon after ',\n",
       " 'modi has said he had travelled in northern india for two years after leaving his parental home  visiting a number of religious centres ',\n",
       " 'he returned to gujarat in      and became a full time worker for the rss ',\n",
       " 'in       after prime minister indira gandhi declared a state of emergency  modi went into hiding ',\n",
       " 'the rss assigned him to the bjp in      and he held several positions within the party hierarchy until       rising to the rank of general secretary ',\n",
       " ' c ']"
      ]
     },
     "execution_count": 17,
     "metadata": {},
     "output_type": "execute_result"
    }
   ],
   "source": [
    "corpus"
   ]
  },
  {
   "cell_type": "code",
   "execution_count": 18,
   "id": "678bcfaf",
   "metadata": {},
   "outputs": [
    {
     "name": "stderr",
     "output_type": "stream",
     "text": [
      "[nltk_data] Downloading package stopwords to\n",
      "[nltk_data]     C:\\Users\\yashv\\AppData\\Roaming\\nltk_data...\n",
      "[nltk_data]   Package stopwords is already up-to-date!\n"
     ]
    },
    {
     "data": {
      "text/plain": [
       "True"
      ]
     },
     "execution_count": 18,
     "metadata": {},
     "output_type": "execute_result"
    }
   ],
   "source": [
    "nltk.download('stopwords')"
   ]
  },
  {
   "cell_type": "code",
   "execution_count": 19,
   "id": "6876c82d",
   "metadata": {},
   "outputs": [
    {
     "data": {
      "text/plain": [
       "['i',\n",
       " 'me',\n",
       " 'my',\n",
       " 'myself',\n",
       " 'we',\n",
       " 'our',\n",
       " 'ours',\n",
       " 'ourselves',\n",
       " 'you',\n",
       " \"you're\",\n",
       " \"you've\",\n",
       " \"you'll\",\n",
       " \"you'd\",\n",
       " 'your',\n",
       " 'yours',\n",
       " 'yourself',\n",
       " 'yourselves',\n",
       " 'he',\n",
       " 'him',\n",
       " 'his',\n",
       " 'himself',\n",
       " 'she',\n",
       " \"she's\",\n",
       " 'her',\n",
       " 'hers',\n",
       " 'herself',\n",
       " 'it',\n",
       " \"it's\",\n",
       " 'its',\n",
       " 'itself',\n",
       " 'they',\n",
       " 'them',\n",
       " 'their',\n",
       " 'theirs',\n",
       " 'themselves',\n",
       " 'what',\n",
       " 'which',\n",
       " 'who',\n",
       " 'whom',\n",
       " 'this',\n",
       " 'that',\n",
       " \"that'll\",\n",
       " 'these',\n",
       " 'those',\n",
       " 'am',\n",
       " 'is',\n",
       " 'are',\n",
       " 'was',\n",
       " 'were',\n",
       " 'be',\n",
       " 'been',\n",
       " 'being',\n",
       " 'have',\n",
       " 'has',\n",
       " 'had',\n",
       " 'having',\n",
       " 'do',\n",
       " 'does',\n",
       " 'did',\n",
       " 'doing',\n",
       " 'a',\n",
       " 'an',\n",
       " 'the',\n",
       " 'and',\n",
       " 'but',\n",
       " 'if',\n",
       " 'or',\n",
       " 'because',\n",
       " 'as',\n",
       " 'until',\n",
       " 'while',\n",
       " 'of',\n",
       " 'at',\n",
       " 'by',\n",
       " 'for',\n",
       " 'with',\n",
       " 'about',\n",
       " 'against',\n",
       " 'between',\n",
       " 'into',\n",
       " 'through',\n",
       " 'during',\n",
       " 'before',\n",
       " 'after',\n",
       " 'above',\n",
       " 'below',\n",
       " 'to',\n",
       " 'from',\n",
       " 'up',\n",
       " 'down',\n",
       " 'in',\n",
       " 'out',\n",
       " 'on',\n",
       " 'off',\n",
       " 'over',\n",
       " 'under',\n",
       " 'again',\n",
       " 'further',\n",
       " 'then',\n",
       " 'once',\n",
       " 'here',\n",
       " 'there',\n",
       " 'when',\n",
       " 'where',\n",
       " 'why',\n",
       " 'how',\n",
       " 'all',\n",
       " 'any',\n",
       " 'both',\n",
       " 'each',\n",
       " 'few',\n",
       " 'more',\n",
       " 'most',\n",
       " 'other',\n",
       " 'some',\n",
       " 'such',\n",
       " 'no',\n",
       " 'nor',\n",
       " 'not',\n",
       " 'only',\n",
       " 'own',\n",
       " 'same',\n",
       " 'so',\n",
       " 'than',\n",
       " 'too',\n",
       " 'very',\n",
       " 's',\n",
       " 't',\n",
       " 'can',\n",
       " 'will',\n",
       " 'just',\n",
       " 'don',\n",
       " \"don't\",\n",
       " 'should',\n",
       " \"should've\",\n",
       " 'now',\n",
       " 'd',\n",
       " 'll',\n",
       " 'm',\n",
       " 'o',\n",
       " 're',\n",
       " 've',\n",
       " 'y',\n",
       " 'ain',\n",
       " 'aren',\n",
       " \"aren't\",\n",
       " 'couldn',\n",
       " \"couldn't\",\n",
       " 'didn',\n",
       " \"didn't\",\n",
       " 'doesn',\n",
       " \"doesn't\",\n",
       " 'hadn',\n",
       " \"hadn't\",\n",
       " 'hasn',\n",
       " \"hasn't\",\n",
       " 'haven',\n",
       " \"haven't\",\n",
       " 'isn',\n",
       " \"isn't\",\n",
       " 'ma',\n",
       " 'mightn',\n",
       " \"mightn't\",\n",
       " 'mustn',\n",
       " \"mustn't\",\n",
       " 'needn',\n",
       " \"needn't\",\n",
       " 'shan',\n",
       " \"shan't\",\n",
       " 'shouldn',\n",
       " \"shouldn't\",\n",
       " 'wasn',\n",
       " \"wasn't\",\n",
       " 'weren',\n",
       " \"weren't\",\n",
       " 'won',\n",
       " \"won't\",\n",
       " 'wouldn',\n",
       " \"wouldn't\"]"
      ]
     },
     "execution_count": 19,
     "metadata": {},
     "output_type": "execute_result"
    }
   ],
   "source": [
    "stopwords.words(\"english\")"
   ]
  },
  {
   "cell_type": "code",
   "execution_count": 20,
   "id": "9ba7e0b6",
   "metadata": {},
   "outputs": [
    {
     "name": "stdout",
     "output_type": "stream",
     "text": [
      "narendra\n",
      "damodarda\n",
      "modi\n",
      "gujarati\n",
      "n\n",
      "end\n",
      "mod\n",
      "modi\n",
      "listen\n",
      "born\n",
      "septemb\n",
      "b\n",
      "indian\n",
      "politician\n",
      "serv\n",
      "th\n",
      "prime\n",
      "minist\n",
      "india\n",
      "sinc\n",
      "may\n",
      "modi\n",
      "chief\n",
      "minist\n",
      "gujarat\n",
      "member\n",
      "parliament\n",
      "mp\n",
      "varanasi\n",
      "member\n",
      "bharatiya\n",
      "janata\n",
      "parti\n",
      "bjp\n",
      "right\n",
      "wing\n",
      "hindu\n",
      "nationalist\n",
      "paramilitari\n",
      "volunt\n",
      "organis\n",
      "rashtriya\n",
      "swayamsevak\n",
      "sangh\n",
      "rss\n",
      "longest\n",
      "serv\n",
      "non\n",
      "indian\n",
      "nation\n",
      "congress\n",
      "inc\n",
      "congress\n",
      "prime\n",
      "minist\n",
      "narendra\n",
      "modi\n",
      "born\n",
      "rais\n",
      "vadnagar\n",
      "north\n",
      "eastern\n",
      "gujarat\n",
      "complet\n",
      "secondari\n",
      "educ\n",
      "introduc\n",
      "rss\n",
      "age\n",
      "eight\n",
      "age\n",
      "marri\n",
      "jashodaben\n",
      "modi\n",
      "abandon\n",
      "soon\n",
      "modi\n",
      "said\n",
      "travel\n",
      "northern\n",
      "india\n",
      "two\n",
      "year\n",
      "leav\n",
      "parent\n",
      "home\n",
      "visit\n",
      "number\n",
      "religi\n",
      "centr\n",
      "return\n",
      "gujarat\n",
      "becam\n",
      "full\n",
      "time\n",
      "worker\n",
      "rss\n",
      "prime\n",
      "minist\n",
      "indira\n",
      "gandhi\n",
      "declar\n",
      "state\n",
      "emerg\n",
      "modi\n",
      "went\n",
      "hide\n",
      "rss\n",
      "assign\n",
      "bjp\n",
      "held\n",
      "sever\n",
      "posit\n",
      "within\n",
      "parti\n",
      "hierarchi\n",
      "rise\n",
      "rank\n",
      "gener\n",
      "secretari\n",
      "c\n"
     ]
    }
   ],
   "source": [
    "# stemming\n",
    "\n",
    "for i in corpus:\n",
    "  words = nltk.word_tokenize(i)      # here 1st we made the token of every word\n",
    "  for word in words:                 # and then if that word is not in stopword list of english then it will stemmer\n",
    "    if word not in set(stopwords.words('english')):\n",
    "      print(stemmer.stem(word))"
   ]
  },
  {
   "cell_type": "code",
   "execution_count": 21,
   "id": "9e9a6b02",
   "metadata": {},
   "outputs": [
    {
     "name": "stdout",
     "output_type": "stream",
     "text": [
      "narendra\n",
      "damodardas\n",
      "modi\n",
      "gujarati\n",
      "n\n",
      "end\n",
      "mod\n",
      "modi\n",
      "listen\n",
      "born\n",
      "september\n",
      "b\n",
      "indian\n",
      "politician\n",
      "served\n",
      "th\n",
      "prime\n",
      "minister\n",
      "india\n",
      "since\n",
      "may\n",
      "modi\n",
      "chief\n",
      "minister\n",
      "gujarat\n",
      "member\n",
      "parliament\n",
      "mp\n",
      "varanasi\n",
      "member\n",
      "bharatiya\n",
      "janata\n",
      "party\n",
      "bjp\n",
      "right\n",
      "wing\n",
      "hindu\n",
      "nationalist\n",
      "paramilitary\n",
      "volunteer\n",
      "organisation\n",
      "rashtriya\n",
      "swayamsevak\n",
      "sangh\n",
      "r\n",
      "longest\n",
      "serving\n",
      "non\n",
      "indian\n",
      "national\n",
      "congress\n",
      "inc\n",
      "congress\n",
      "prime\n",
      "minister\n",
      "narendra\n",
      "modi\n",
      "born\n",
      "raised\n",
      "vadnagar\n",
      "north\n",
      "eastern\n",
      "gujarat\n",
      "completed\n",
      "secondary\n",
      "education\n",
      "introduced\n",
      "r\n",
      "age\n",
      "eight\n",
      "age\n",
      "married\n",
      "jashodaben\n",
      "modi\n",
      "abandoned\n",
      "soon\n",
      "modi\n",
      "said\n",
      "travelled\n",
      "northern\n",
      "india\n",
      "two\n",
      "year\n",
      "leaving\n",
      "parental\n",
      "home\n",
      "visiting\n",
      "number\n",
      "religious\n",
      "centre\n",
      "returned\n",
      "gujarat\n",
      "became\n",
      "full\n",
      "time\n",
      "worker\n",
      "r\n",
      "prime\n",
      "minister\n",
      "indira\n",
      "gandhi\n",
      "declared\n",
      "state\n",
      "emergency\n",
      "modi\n",
      "went\n",
      "hiding\n",
      "r\n",
      "assigned\n",
      "bjp\n",
      "held\n",
      "several\n",
      "position\n",
      "within\n",
      "party\n",
      "hierarchy\n",
      "rising\n",
      "rank\n",
      "general\n",
      "secretary\n",
      "c\n"
     ]
    }
   ],
   "source": [
    "# Lemmatzation\n",
    "\n",
    "for i in corpus:\n",
    "  words = nltk.word_tokenize(i)       # here 1st we made the token of every word\n",
    "  for word in words:                  # and then if that word is not in stopword list for english then it will stemmer\n",
    "    if word not in set(stopwords.words('english')):\n",
    "      print(lemmatizer.lemmatize(word))"
   ]
  },
  {
   "cell_type": "code",
   "execution_count": 23,
   "id": "f2ef3216",
   "metadata": {},
   "outputs": [],
   "source": [
    "## Apply Stopwords. Lemmatize\n",
    "\n",
    "import re \n",
    "corpus = []\n",
    "for i in range(len(sentences)):\n",
    "  review = re.sub('[^a-zA-Z]', ' ', sentences[i])\n",
    "  review = review.lower()\n",
    "  review = review.split()\n",
    "  review = [lemmatizer.lemmatize(word) for word in review if not word in set(stopwords.words('english'))]\n",
    "  review = ' '.join(review)\n",
    "  corpus.append(review)"
   ]
  },
  {
   "cell_type": "code",
   "execution_count": 24,
   "id": "1820a280",
   "metadata": {},
   "outputs": [],
   "source": [
    "from sklearn.feature_extraction.text import CountVectorizer\n",
    "cv = CountVectorizer(binary=True)"
   ]
  },
  {
   "cell_type": "code",
   "execution_count": 25,
   "id": "e4432b06",
   "metadata": {},
   "outputs": [],
   "source": [
    "X = cv.fit_transform(corpus)"
   ]
  },
  {
   "cell_type": "code",
   "execution_count": 26,
   "id": "ed7ebc22",
   "metadata": {},
   "outputs": [
    {
     "data": {
      "text/plain": [
       "{'narendra': 45,\n",
       " 'damodardas': 11,\n",
       " 'modi': 43,\n",
       " 'gujarati': 22,\n",
       " 'end': 17,\n",
       " 'mod': 42,\n",
       " 'listen': 36,\n",
       " 'born': 6,\n",
       " 'september': 71,\n",
       " 'indian': 30,\n",
       " 'politician': 57,\n",
       " 'served': 72,\n",
       " 'th': 79,\n",
       " 'prime': 59,\n",
       " 'minister': 41,\n",
       " 'india': 29,\n",
       " 'since': 75,\n",
       " 'may': 39,\n",
       " 'chief': 8,\n",
       " 'gujarat': 21,\n",
       " 'member': 40,\n",
       " 'parliament': 55,\n",
       " 'mp': 44,\n",
       " 'varanasi': 84,\n",
       " 'bharatiya': 4,\n",
       " 'janata': 33,\n",
       " 'party': 56,\n",
       " 'bjp': 5,\n",
       " 'right': 65,\n",
       " 'wing': 88,\n",
       " 'hindu': 26,\n",
       " 'nationalist': 47,\n",
       " 'paramilitary': 53,\n",
       " 'volunteer': 86,\n",
       " 'organisation': 52,\n",
       " 'rashtriya': 62,\n",
       " 'swayamsevak': 78,\n",
       " 'sangh': 68,\n",
       " 'longest': 37,\n",
       " 'serving': 73,\n",
       " 'non': 48,\n",
       " 'national': 46,\n",
       " 'congress': 10,\n",
       " 'inc': 28,\n",
       " 'raised': 60,\n",
       " 'vadnagar': 83,\n",
       " 'north': 49,\n",
       " 'eastern': 13,\n",
       " 'completed': 9,\n",
       " 'secondary': 69,\n",
       " 'education': 14,\n",
       " 'introduced': 32,\n",
       " 'age': 1,\n",
       " 'eight': 15,\n",
       " 'married': 38,\n",
       " 'jashodaben': 34,\n",
       " 'abandoned': 0,\n",
       " 'soon': 76,\n",
       " 'said': 67,\n",
       " 'travelled': 81,\n",
       " 'northern': 50,\n",
       " 'two': 82,\n",
       " 'year': 91,\n",
       " 'leaving': 35,\n",
       " 'parental': 54,\n",
       " 'home': 27,\n",
       " 'visiting': 85,\n",
       " 'number': 51,\n",
       " 'religious': 63,\n",
       " 'centre': 7,\n",
       " 'returned': 64,\n",
       " 'became': 3,\n",
       " 'full': 18,\n",
       " 'time': 80,\n",
       " 'worker': 90,\n",
       " 'indira': 31,\n",
       " 'gandhi': 19,\n",
       " 'declared': 12,\n",
       " 'state': 77,\n",
       " 'emergency': 16,\n",
       " 'went': 87,\n",
       " 'hiding': 24,\n",
       " 'assigned': 2,\n",
       " 'held': 23,\n",
       " 'several': 74,\n",
       " 'position': 58,\n",
       " 'within': 89,\n",
       " 'hierarchy': 25,\n",
       " 'rising': 66,\n",
       " 'rank': 61,\n",
       " 'general': 20,\n",
       " 'secretary': 70}"
      ]
     },
     "execution_count": 26,
     "metadata": {},
     "output_type": "execute_result"
    }
   ],
   "source": [
    "cv.vocabulary_\n"
   ]
  },
  {
   "cell_type": "code",
   "execution_count": 27,
   "id": "fcb677fe",
   "metadata": {},
   "outputs": [
    {
     "data": {
      "text/plain": [
       "'narendra damodardas modi gujarati n end mod modi listen born september b indian politician served th prime minister india since may'"
      ]
     },
     "execution_count": 27,
     "metadata": {},
     "output_type": "execute_result"
    }
   ],
   "source": [
    "corpus[0]\n"
   ]
  },
  {
   "cell_type": "code",
   "execution_count": 28,
   "id": "1ae9cd33",
   "metadata": {},
   "outputs": [
    {
     "data": {
      "text/plain": [
       "array([[0, 0, 0, 0, 0, 0, 1, 0, 0, 0, 0, 1, 0, 0, 0, 0, 0, 1, 0, 0, 0, 0,\n",
       "        1, 0, 0, 0, 0, 0, 0, 1, 1, 0, 0, 0, 0, 0, 1, 0, 0, 1, 0, 1, 1, 1,\n",
       "        0, 1, 0, 0, 0, 0, 0, 0, 0, 0, 0, 0, 0, 1, 0, 1, 0, 0, 0, 0, 0, 0,\n",
       "        0, 0, 0, 0, 0, 1, 1, 0, 0, 1, 0, 0, 0, 1, 0, 0, 0, 0, 0, 0, 0, 0,\n",
       "        0, 0, 0, 0]], dtype=int64)"
      ]
     },
     "execution_count": 28,
     "metadata": {},
     "output_type": "execute_result"
    }
   ],
   "source": [
    "X[0].toarray()"
   ]
  },
  {
   "cell_type": "code",
   "execution_count": null,
   "id": "577a40c0",
   "metadata": {},
   "outputs": [],
   "source": []
  }
 ],
 "metadata": {
  "kernelspec": {
   "display_name": "Python 3 (ipykernel)",
   "language": "python",
   "name": "python3"
  },
  "language_info": {
   "codemirror_mode": {
    "name": "ipython",
    "version": 3
   },
   "file_extension": ".py",
   "mimetype": "text/x-python",
   "name": "python",
   "nbconvert_exporter": "python",
   "pygments_lexer": "ipython3",
   "version": "3.11.5"
  }
 },
 "nbformat": 4,
 "nbformat_minor": 5
}
